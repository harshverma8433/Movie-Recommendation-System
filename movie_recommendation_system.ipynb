{
 "cells": [
  {
   "cell_type": "markdown",
   "metadata": {},
   "source": [
    "## Recomendation System - it is a type of machine learning system that provides personalized recommendations to users based on their past behaviors, preferences, and patterns"
   ]
  },
  {
   "cell_type": "markdown",
   "metadata": {},
   "source": [
    "### Two types of recommendation system - \n",
    "- content based filtering (CBF) - it uses item features to recommend other items similar to what the user likes, based on their previous actions .\n",
    "- collaborative filtering - it used to recommend items to users by analyzing how other users with similar preferences have interacted with those items.\n",
    "- Hybrid approach - it combines the strengths of both CBF and CF to provide more accurate and diverse recommendations."
   ]
  },
  {
   "cell_type": "markdown",
   "metadata": {},
   "source": [
    "#### In this project i use Content Based Filtering"
   ]
  },
  {
   "cell_type": "markdown",
   "metadata": {},
   "source": [
    "#### flow of project\n",
    "- Load Data\n",
    "- Data Preprocessing\n",
    "- Feature Engineering\n",
    "- Model Selection\n",
    "- Model Training\n",
    "- Model Evaluation\n",
    "- Model Deployment\n"
   ]
  },
  {
   "cell_type": "code",
   "execution_count": null,
   "metadata": {
    "vscode": {
     "languageId": "plaintext"
    }
   },
   "outputs": [],
   "source": []
  }
 ],
 "metadata": {
  "language_info": {
   "name": "python"
  }
 },
 "nbformat": 4,
 "nbformat_minor": 2
}
